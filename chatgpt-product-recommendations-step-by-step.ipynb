{
 "cells": [
  {
   "cell_type": "markdown",
   "id": "1cf62cdd",
   "metadata": {},
   "source": [
    "# How to use ChatGPT API to build a chatbot for product recommendations with embeddings"
   ]
  },
  {
   "cell_type": "markdown",
   "id": "93d6787b",
   "metadata": {},
   "source": [
    "**Are you looking to build a chatbot that can recommend products to your customers based on their unique profile?**\n",
    "\n",
    "Here's a step-by-step guide that shows you how to build a chatbot using embeddings to match a user's profile with relevant products from a company's database.\n",
    "\n",
    "Detailed step-by-step intructions for this repo in this blog post: https://norahsakal.com/blog/chatgpt-product-recommendation-embeddings\n",
    "\n",
    "### Important\n",
    "If you already have openai installed, make sure to call `pip install openai --upgrade` in your terminal to make sure you have access to version `0.27.0` (or higher) which has the newly added **gpt-3.5-turbo model**.\n",
    "\n",
    "---\n",
    "\n",
    "## Difference between ChatGPT and GPT-3 API\n",
    "ChatGPT is OpenAI's new model family designed specifically for chat-based interactions.\n",
    "\n",
    "Unlike the larger GPT-3 model, ChatGPT can consume a sequence of messages with metadata, which allows for more contextual understanding of conversations.\n",
    "\n",
    "Plus, the ChatGPT API is currently priced at only $0.002 per 1k tokens, which is 10x cheaper than the existing GPT-3.5 models.\n",
    "\n",
    "So if you're looking to build a chatbot for support requests, ChatGPT is definitely worth considering."
   ]
  },
  {
   "cell_type": "code",
   "execution_count": null,
   "id": "9fbd800f",
   "metadata": {},
   "outputs": [],
   "source": [
    "import openai\n",
    "import pandas as pd\n",
    "from openai.embeddings_utils import get_embedding,cosine_similarity\n"
   ]
  },
  {
   "cell_type": "markdown",
   "id": "50889859",
   "metadata": {},
   "source": [
    "# 1. Add your API key"
   ]
  },
  {
   "cell_type": "code",
   "execution_count": null,
   "id": "daea5681",
   "metadata": {},
   "outputs": [],
   "source": [
    "api_key =\"YOUR_API_KEY\"\n",
    "openai.api_key = api_key"
   ]
  },
  {
   "cell_type": "markdown",
   "id": "29973647",
   "metadata": {},
   "source": [
    "# 2. Create product data"
   ]
  },
  {
   "cell_type": "code",
   "execution_count": null,
   "id": "fe081d9d",
   "metadata": {},
   "outputs": [],
   "source": [
    "\n",
    "product_data = [{\n",
    "    \"prod_id\": 1,\n",
    "    \"prod\": \"moisturizer\",\n",
    "    \"brand\":\"Aveeno\",\n",
    "    \"description\": \"for dry skin\"\n",
    "},\n",
    "{\n",
    "    \"prod_id\": 2,\n",
    "    \"prod\": \"foundation\",\n",
    "    \"brand\":\"Maybelline\",\n",
    "    \"description\": \"medium coverage\"\n",
    "},\n",
    "{\n",
    "    \"prod_id\": 3,\n",
    "    \"prod\": \"moisturizer\",\n",
    "    \"brand\":\"CeraVe\",\n",
    "    \"description\": \"for dry skin\"\n",
    "},\n",
    "{\n",
    "    \"prod_id\": 4,\n",
    "    \"prod\": \"nail polish\",\n",
    "    \"brand\":\"OPI\",\n",
    "    \"description\": \"raspberry red\"\n",
    "},\n",
    "{\n",
    "    \"prod_id\": 5,\n",
    "    \"prod\": \"concealer\",\n",
    "    \"brand\":\"chanel\",\n",
    "    \"description\": \"medium coverage\"\n",
    "},\n",
    "{\n",
    "    \"prod_id\": 6,\n",
    "    \"prod\": \"moisturizer\",\n",
    "    \"brand\":\"Ole Henkrisen\",\n",
    "    \"description\": \"for oily skin\"\n",
    "},\n",
    "{\n",
    "    \"prod_id\": 7,\n",
    "    \"prod\": \"moisturizer\",\n",
    "    \"brand\":\"CeraVe\",\n",
    "    \"description\": \"for normal to dry skin\"\n",
    "},\n",
    "{\n",
    "    \"prod_id\": 8,\n",
    "    \"prod\": \"moisturizer\",\n",
    "    \"brand\":\"First Aid Beauty\",\n",
    "    \"description\": \"for dry skin\"\n",
    "},{\n",
    "    \"prod_id\": 9,\n",
    "    \"prod\": \"makeup sponge\",\n",
    "    \"brand\":\"Sephora\",\n",
    "    \"description\": \"super-soft, exclusive, latex-free foam\"\n",
    "}]"
   ]
  },
  {
   "cell_type": "markdown",
   "id": "8a49544d",
   "metadata": {},
   "source": [
    "# 3. Add product data to dataframe"
   ]
  },
  {
   "cell_type": "code",
   "execution_count": null,
   "id": "f1e83181",
   "metadata": {},
   "outputs": [],
   "source": [
    "product_data_df = pd.DataFrame(product_data)\n",
    "product_data_df"
   ]
  },
  {
   "cell_type": "markdown",
   "id": "baba620b",
   "metadata": {},
   "source": [
    "# 4. Create column with combined data"
   ]
  },
  {
   "cell_type": "code",
   "execution_count": null,
   "id": "9d7cdc5a",
   "metadata": {},
   "outputs": [],
   "source": [
    "product_data_df['combined'] = product_data_df.apply(lambda row: f\"{row['brand']}, {row['prod']}, {row['description']}\", axis=1)\n",
    "product_data_df"
   ]
  },
  {
   "cell_type": "markdown",
   "id": "4780c580",
   "metadata": {},
   "source": [
    "# 5. Create embeddings for combined product data"
   ]
  },
  {
   "cell_type": "code",
   "execution_count": null,
   "id": "89a9f033",
   "metadata": {},
   "outputs": [],
   "source": [
    "product_data_df['text_embedding'] = product_data_df.combined.apply(lambda x: get_embedding(x, engine='text-embedding-ada-002'))\n",
    "product_data_df"
   ]
  },
  {
   "cell_type": "markdown",
   "id": "27309722",
   "metadata": {},
   "source": [
    "# 6. Create customer profile data"
   ]
  },
  {
   "cell_type": "code",
   "execution_count": null,
   "id": "422a6115",
   "metadata": {},
   "outputs": [],
   "source": [
    "customer_order_data = [\n",
    "{\n",
    "    \"prod_id\": 1,\n",
    "    \"prod\": \"moisturizer\",\n",
    "    \"brand\":\"Aveeno\",\n",
    "    \"description\": \"for dry skin\"\n",
    "},{\n",
    "    \"prod_id\": 2,\n",
    "    \"prod\": \"foundation\",\n",
    "    \"brand\":\"Maybelline\",\n",
    "    \"description\": \"medium coverage\"\n",
    "},{\n",
    "    \"prod_id\": 4,\n",
    "    \"prod\": \"nail polish\",\n",
    "    \"brand\":\"OPI\",\n",
    "    \"description\": \"raspberry red\"\n",
    "},{\n",
    "    \"prod_id\": 5,\n",
    "    \"prod\": \"concealer\",\n",
    "    \"brand\":\"chanel\",\n",
    "    \"description\": \"medium coverage\"\n",
    "},{\n",
    "    \"prod_id\": 9,\n",
    "    \"prod\": \"makeup sponge\",\n",
    "    \"brand\":\"Sephora\",\n",
    "    \"description\": \"super-soft, exclusive, latex-free foam\"\n",
    "}]"
   ]
  },
  {
   "cell_type": "markdown",
   "id": "6a4ce5c9",
   "metadata": {},
   "source": [
    "# 7. Add customer profile data to dataframe"
   ]
  },
  {
   "cell_type": "code",
   "execution_count": null,
   "id": "1b1637c0",
   "metadata": {},
   "outputs": [],
   "source": [
    "customer_order_df = pd.DataFrame(customer_order_data)\n",
    "customer_order_df"
   ]
  },
  {
   "cell_type": "markdown",
   "id": "9e65df3a",
   "metadata": {},
   "source": [
    "# 8. Create combined column for customer profile"
   ]
  },
  {
   "cell_type": "code",
   "execution_count": null,
   "id": "0111bc6c",
   "metadata": {},
   "outputs": [],
   "source": [
    "customer_order_df['combined'] = customer_order_df.apply(lambda row: f\"{row['brand']}, {row['prod']}, {row['description']}\", axis=1)\n",
    "customer_order_df\n"
   ]
  },
  {
   "cell_type": "markdown",
   "id": "acee6abf",
   "metadata": {},
   "source": [
    "# 9. Create customer profile data embeddings"
   ]
  },
  {
   "cell_type": "code",
   "execution_count": null,
   "id": "2eb912cc",
   "metadata": {},
   "outputs": [],
   "source": [
    "customer_order_df['text_embedding'] = customer_order_df.combined.apply(lambda x: get_embedding(x, engine='text-embedding-ada-002'))\n",
    "customer_order_df\n"
   ]
  },
  {
   "cell_type": "markdown",
   "id": "df3fa1a7",
   "metadata": {},
   "source": [
    "# 10. Create embeddings for input question"
   ]
  },
  {
   "cell_type": "code",
   "execution_count": null,
   "id": "0a46ecfc",
   "metadata": {},
   "outputs": [],
   "source": [
    "customer_input = \"Hi! Can you recommend a good moisturizer for me?\""
   ]
  },
  {
   "cell_type": "code",
   "execution_count": null,
   "id": "583cf664",
   "metadata": {},
   "outputs": [],
   "source": [
    "response = openai.Embedding.create(\n",
    "    input=customer_input,\n",
    "    model=\"text-embedding-ada-002\"\n",
    ")\n",
    "embeddings_customer_question = response['data'][0]['embedding']"
   ]
  },
  {
   "cell_type": "markdown",
   "id": "9d121dcb",
   "metadata": {},
   "source": [
    "# 11. Get similarities for purchase history"
   ]
  },
  {
   "cell_type": "code",
   "execution_count": null,
   "id": "05669892",
   "metadata": {},
   "outputs": [],
   "source": [
    "customer_order_df['search_purchase_history'] = customer_order_df.text_embedding.apply(lambda x: cosine_similarity(x, embeddings_customer_question))\n",
    "customer_order_df = customer_order_df.sort_values('search_purchase_history', ascending=False)\n",
    "customer_order_df\n"
   ]
  },
  {
   "cell_type": "markdown",
   "id": "143d025f",
   "metadata": {},
   "source": [
    "# 12. Save top 3 similarities for purchase history"
   ]
  },
  {
   "cell_type": "code",
   "execution_count": null,
   "id": "4b4e41eb",
   "metadata": {},
   "outputs": [],
   "source": [
    "top_3_purchases_df = customer_order_df.head(3)\n",
    "top_3_purchases_df"
   ]
  },
  {
   "cell_type": "markdown",
   "id": "57b0d4da",
   "metadata": {},
   "source": [
    "# 13. Get similarities for products"
   ]
  },
  {
   "cell_type": "code",
   "execution_count": null,
   "id": "fa3d18d1",
   "metadata": {},
   "outputs": [],
   "source": [
    "product_data_df['search_products'] = product_data_df.text_embedding.apply(lambda x: cosine_similarity(x, embeddings_customer_question))\n",
    "product_data_df = product_data_df.sort_values('search_products', ascending=False)\n",
    "product_data_df\n"
   ]
  },
  {
   "cell_type": "markdown",
   "id": "7f9fadb8",
   "metadata": {},
   "source": [
    "# 14. Save top 3 similarities for products"
   ]
  },
  {
   "cell_type": "code",
   "execution_count": null,
   "id": "68529321",
   "metadata": {},
   "outputs": [],
   "source": [
    "top_3_purchases_df = customer_order_df.head(3)\n",
    "top_3_purchases_df"
   ]
  },
  {
   "cell_type": "code",
   "execution_count": null,
   "id": "5c822bda",
   "metadata": {},
   "outputs": [],
   "source": [
    "top_3_products_df = product_data_df.head(3)\n",
    "top_3_products_df"
   ]
  },
  {
   "cell_type": "markdown",
   "id": "7e78b207",
   "metadata": {},
   "source": [
    "# 15. Create prompt"
   ]
  },
  {
   "cell_type": "markdown",
   "id": "3977f298",
   "metadata": {},
   "source": [
    "The system message helps set the behavior of the assistant.\n",
    "\n",
    ">From OpenAI API docs: https://platform.openai.com/docs/guides/chat/introduction\n",
    ">\n",
    ">\"gpt-3.5-turbo-0301 does not always pay strong attention to system messages. Future models will be trained to pay stronger attention to system messages.\""
   ]
  },
  {
   "cell_type": "markdown",
   "id": "9e994cad",
   "metadata": {},
   "source": [
    ">Tip 💡\n",
    ">\n",
    ">Tinker with the instructions in the prompt until you find the desired voice of your chatbot."
   ]
  },
  {
   "cell_type": "code",
   "execution_count": null,
   "id": "e45f16fe",
   "metadata": {},
   "outputs": [],
   "source": [
    "message_objects = []\n",
    "message_objects.append({\"role\":\"system\", \"content\":\"You're a chatbot helping customers with beauty-related questions and helping them with product recommendations\"})\n"
   ]
  },
  {
   "cell_type": "code",
   "execution_count": null,
   "id": "c1bbd9a3",
   "metadata": {},
   "outputs": [],
   "source": [
    "# Append the customer messagae\n",
    "message_objects.append({\"role\":\"user\", \"content\": customer_input})"
   ]
  },
  {
   "cell_type": "code",
   "execution_count": null,
   "id": "66b61bb7",
   "metadata": {},
   "outputs": [],
   "source": [
    "# Create previously purchased input\n",
    "prev_purchases = \". \".join([f\"{row['combined']}\" for index, row in moisturizer_prev_purchases_df.iterrows()])\n",
    "prev_purchases"
   ]
  },
  {
   "cell_type": "code",
   "execution_count": null,
   "id": "886a3e07",
   "metadata": {},
   "outputs": [],
   "source": [
    "# Append prev relevant purchase\n",
    "message_objects.append({\"role\":\"user\", \"content\": f\"Here're my latest product orders: {prev_purchases}\"})\n",
    "message_objects.append({\"role\":\"user\", \"content\": f\"Please give me a detailed explanation of your recommendations\"})\n",
    "message_objects.append({\"role\":\"user\", \"content\": \"Please be friendly and talk to me like a person, don't just give me a list of recommendations\"})\n"
   ]
  },
  {
   "cell_type": "code",
   "execution_count": null,
   "id": "2a4b0d0e",
   "metadata": {},
   "outputs": [],
   "source": [
    "# Create list of 3 products to recommend\n",
    "products_list = []\n",
    "\n",
    "for index, row in top_3_products_df.iterrows():\n",
    "    brand_dict = {'role': \"assistant\", \"content\": f\"{row['combined']}\"}\n",
    "    products_list.append(brand_dict)\n",
    "products_list"
   ]
  },
  {
   "cell_type": "code",
   "execution_count": null,
   "id": "40fb7fbd",
   "metadata": {},
   "outputs": [],
   "source": [
    "# Append found products  \n",
    "message_objects.append({\"role\": \"assistant\", \"content\": f\"I found these 3 products I would recommend\"})\n",
    "message_objects.extend(products_list)\n",
    "message_objects.append({\"role\": \"assistant\", \"content\":\"Here's my summarized recommendation of products, and why it would suit you:\"})\n",
    "message_objects"
   ]
  },
  {
   "cell_type": "markdown",
   "id": "be8957f0",
   "metadata": {},
   "source": [
    "# 16. Call ChatGPT API"
   ]
  },
  {
   "cell_type": "code",
   "execution_count": null,
   "id": "21adb294",
   "metadata": {},
   "outputs": [],
   "source": [
    "completion = openai.ChatCompletion.create(\n",
    "  model=\"gpt-3.5-turbo\",\n",
    "  messages=message_objects\n",
    ")\n",
    "\n",
    "print(completion.choices[0].message['content'])"
   ]
  },
  {
   "cell_type": "code",
   "execution_count": null,
   "id": "aef97e73",
   "metadata": {},
   "outputs": [],
   "source": []
  }
 ],
 "metadata": {
  "kernelspec": {
   "display_name": "Python 3 (ipykernel)",
   "language": "python",
   "name": "python3"
  },
  "language_info": {
   "codemirror_mode": {
    "name": "ipython",
    "version": 3
   },
   "file_extension": ".py",
   "mimetype": "text/x-python",
   "name": "python",
   "nbconvert_exporter": "python",
   "pygments_lexer": "ipython3",
   "version": "3.9.13"
  }
 },
 "nbformat": 4,
 "nbformat_minor": 5
}
